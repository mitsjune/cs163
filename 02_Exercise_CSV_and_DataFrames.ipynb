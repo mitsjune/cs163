{
  "cells": [
    {
      "cell_type": "markdown",
      "metadata": {
        "id": "jQZSY-eysfcd"
      },
      "source": [
        "# CSV Files and Data Frames\n",
        "\n",
        "This exercise should get you started with handling data in Python. There is no data analysis yet, just some loading and filtering of the data.\n",
        "\n",
        "\n",
        "## Loading data from CSV\n",
        "Your first step is always accessing the data. Often, the data is stored in a database or within files. One common and generic exchange format for files are Comma Separated Value (CSV) files. The first line of such a file indicates the names of the features, the following lines each contain a single instance.\n",
        "\n",
        "First, download the ```analcatdata_bankruptcy``` dataset in the data folder and and upload it to your Jupyter notebook.\n",
        "\n",
        "Use the cell below to load the data from the CSV file. The data should be loaded into a _data frame_. Data frames are available in python using the ```pandas``` library. In comparison to matrices or similar types, they allow different types of columns, are usually easier to manipulate, e.g., by adding or removing rows/columns, and rows and columns can be named.\n",
        "\n",
        "Once you have done this, print some information about the data:\n",
        "- number of instances\n",
        "- number of features\n",
        "- names of the features"
      ]
    },
    {
      "cell_type": "code",
      "source": [
        "import pandas as pd\n",
        "\n",
        "\n",
        "df = pd.read_csv(\"analcatdata_bankruptcy.csv\", na_values=[\"NA\"])\n",
        "\n",
        "print(\"Number of instances:\", df.shape[0])\n",
        "print(\"Number of features:\", df.shape[1])\n",
        "print(\"Feature names:\", list(df.columns))"
      ],
      "metadata": {
        "colab": {
          "base_uri": "https://localhost:8080/"
        },
        "id": "_Us5XpPOs4pZ",
        "outputId": "1239540e-06fc-4979-c5c7-5f16d7d58e26"
      },
      "execution_count": 21,
      "outputs": [
        {
          "output_type": "stream",
          "name": "stdout",
          "text": [
            "Number of instances: 50\n",
            "Number of features: 7\n",
            "Feature names: ['Company', 'WC/TA', 'RE/TA', 'EBIT/TA', 'S/TA', 'BVE/BVL', 'Bankrupt']\n"
          ]
        }
      ]
    },
    {
      "cell_type": "code",
      "source": [
        "df.head()"
      ],
      "metadata": {
        "colab": {
          "base_uri": "https://localhost:8080/",
          "height": 206
        },
        "id": "M7yA2wCPub3R",
        "outputId": "ce2c337e-65fc-4eff-93a3-da600ffce739"
      },
      "execution_count": 20,
      "outputs": [
        {
          "output_type": "execute_result",
          "data": {
            "text/plain": [
              "                     Company  WC/TA  RE/TA  EBIT/TA  S/TA  BVE/BVL  Bankrupt\n",
              "0                360Networks    9.3   -7.7      1.6   9.1    3.726         1\n",
              "1     Advanced_Radio_Telecom   42.6  -60.1    -10.1   0.3    4.130         1\n",
              "2      Ardent_Communications  -28.8 -203.2    -51.0  14.7    0.111         1\n",
              "3              At_Home_Corp.    2.5 -433.1     -6.0  29.3    1.949         1\n",
              "4  Convergent_Communications   26.1  -57.4    -23.5  54.2    0.855         1"
            ],
            "text/html": [
              "\n",
              "  <div id=\"df-dd655317-7748-4e20-89be-72dd5a585a2e\" class=\"colab-df-container\">\n",
              "    <div>\n",
              "<style scoped>\n",
              "    .dataframe tbody tr th:only-of-type {\n",
              "        vertical-align: middle;\n",
              "    }\n",
              "\n",
              "    .dataframe tbody tr th {\n",
              "        vertical-align: top;\n",
              "    }\n",
              "\n",
              "    .dataframe thead th {\n",
              "        text-align: right;\n",
              "    }\n",
              "</style>\n",
              "<table border=\"1\" class=\"dataframe\">\n",
              "  <thead>\n",
              "    <tr style=\"text-align: right;\">\n",
              "      <th></th>\n",
              "      <th>Company</th>\n",
              "      <th>WC/TA</th>\n",
              "      <th>RE/TA</th>\n",
              "      <th>EBIT/TA</th>\n",
              "      <th>S/TA</th>\n",
              "      <th>BVE/BVL</th>\n",
              "      <th>Bankrupt</th>\n",
              "    </tr>\n",
              "  </thead>\n",
              "  <tbody>\n",
              "    <tr>\n",
              "      <th>0</th>\n",
              "      <td>360Networks</td>\n",
              "      <td>9.3</td>\n",
              "      <td>-7.7</td>\n",
              "      <td>1.6</td>\n",
              "      <td>9.1</td>\n",
              "      <td>3.726</td>\n",
              "      <td>1</td>\n",
              "    </tr>\n",
              "    <tr>\n",
              "      <th>1</th>\n",
              "      <td>Advanced_Radio_Telecom</td>\n",
              "      <td>42.6</td>\n",
              "      <td>-60.1</td>\n",
              "      <td>-10.1</td>\n",
              "      <td>0.3</td>\n",
              "      <td>4.130</td>\n",
              "      <td>1</td>\n",
              "    </tr>\n",
              "    <tr>\n",
              "      <th>2</th>\n",
              "      <td>Ardent_Communications</td>\n",
              "      <td>-28.8</td>\n",
              "      <td>-203.2</td>\n",
              "      <td>-51.0</td>\n",
              "      <td>14.7</td>\n",
              "      <td>0.111</td>\n",
              "      <td>1</td>\n",
              "    </tr>\n",
              "    <tr>\n",
              "      <th>3</th>\n",
              "      <td>At_Home_Corp.</td>\n",
              "      <td>2.5</td>\n",
              "      <td>-433.1</td>\n",
              "      <td>-6.0</td>\n",
              "      <td>29.3</td>\n",
              "      <td>1.949</td>\n",
              "      <td>1</td>\n",
              "    </tr>\n",
              "    <tr>\n",
              "      <th>4</th>\n",
              "      <td>Convergent_Communications</td>\n",
              "      <td>26.1</td>\n",
              "      <td>-57.4</td>\n",
              "      <td>-23.5</td>\n",
              "      <td>54.2</td>\n",
              "      <td>0.855</td>\n",
              "      <td>1</td>\n",
              "    </tr>\n",
              "  </tbody>\n",
              "</table>\n",
              "</div>\n",
              "    <div class=\"colab-df-buttons\">\n",
              "\n",
              "  <div class=\"colab-df-container\">\n",
              "    <button class=\"colab-df-convert\" onclick=\"convertToInteractive('df-dd655317-7748-4e20-89be-72dd5a585a2e')\"\n",
              "            title=\"Convert this dataframe to an interactive table.\"\n",
              "            style=\"display:none;\">\n",
              "\n",
              "  <svg xmlns=\"http://www.w3.org/2000/svg\" height=\"24px\" viewBox=\"0 -960 960 960\">\n",
              "    <path d=\"M120-120v-720h720v720H120Zm60-500h600v-160H180v160Zm220 220h160v-160H400v160Zm0 220h160v-160H400v160ZM180-400h160v-160H180v160Zm440 0h160v-160H620v160ZM180-180h160v-160H180v160Zm440 0h160v-160H620v160Z\"/>\n",
              "  </svg>\n",
              "    </button>\n",
              "\n",
              "  <style>\n",
              "    .colab-df-container {\n",
              "      display:flex;\n",
              "      gap: 12px;\n",
              "    }\n",
              "\n",
              "    .colab-df-convert {\n",
              "      background-color: #E8F0FE;\n",
              "      border: none;\n",
              "      border-radius: 50%;\n",
              "      cursor: pointer;\n",
              "      display: none;\n",
              "      fill: #1967D2;\n",
              "      height: 32px;\n",
              "      padding: 0 0 0 0;\n",
              "      width: 32px;\n",
              "    }\n",
              "\n",
              "    .colab-df-convert:hover {\n",
              "      background-color: #E2EBFA;\n",
              "      box-shadow: 0px 1px 2px rgba(60, 64, 67, 0.3), 0px 1px 3px 1px rgba(60, 64, 67, 0.15);\n",
              "      fill: #174EA6;\n",
              "    }\n",
              "\n",
              "    .colab-df-buttons div {\n",
              "      margin-bottom: 4px;\n",
              "    }\n",
              "\n",
              "    [theme=dark] .colab-df-convert {\n",
              "      background-color: #3B4455;\n",
              "      fill: #D2E3FC;\n",
              "    }\n",
              "\n",
              "    [theme=dark] .colab-df-convert:hover {\n",
              "      background-color: #434B5C;\n",
              "      box-shadow: 0px 1px 3px 1px rgba(0, 0, 0, 0.15);\n",
              "      filter: drop-shadow(0px 1px 2px rgba(0, 0, 0, 0.3));\n",
              "      fill: #FFFFFF;\n",
              "    }\n",
              "  </style>\n",
              "\n",
              "    <script>\n",
              "      const buttonEl =\n",
              "        document.querySelector('#df-dd655317-7748-4e20-89be-72dd5a585a2e button.colab-df-convert');\n",
              "      buttonEl.style.display =\n",
              "        google.colab.kernel.accessAllowed ? 'block' : 'none';\n",
              "\n",
              "      async function convertToInteractive(key) {\n",
              "        const element = document.querySelector('#df-dd655317-7748-4e20-89be-72dd5a585a2e');\n",
              "        const dataTable =\n",
              "          await google.colab.kernel.invokeFunction('convertToInteractive',\n",
              "                                                    [key], {});\n",
              "        if (!dataTable) return;\n",
              "\n",
              "        const docLinkHtml = 'Like what you see? Visit the ' +\n",
              "          '<a target=\"_blank\" href=https://colab.research.google.com/notebooks/data_table.ipynb>data table notebook</a>'\n",
              "          + ' to learn more about interactive tables.';\n",
              "        element.innerHTML = '';\n",
              "        dataTable['output_type'] = 'display_data';\n",
              "        await google.colab.output.renderOutput(dataTable, element);\n",
              "        const docLink = document.createElement('div');\n",
              "        docLink.innerHTML = docLinkHtml;\n",
              "        element.appendChild(docLink);\n",
              "      }\n",
              "    </script>\n",
              "  </div>\n",
              "\n",
              "\n",
              "    <div id=\"df-d10c56e4-fadb-41fe-abcf-d384f44cb9c7\">\n",
              "      <button class=\"colab-df-quickchart\" onclick=\"quickchart('df-d10c56e4-fadb-41fe-abcf-d384f44cb9c7')\"\n",
              "                title=\"Suggest charts\"\n",
              "                style=\"display:none;\">\n",
              "\n",
              "<svg xmlns=\"http://www.w3.org/2000/svg\" height=\"24px\"viewBox=\"0 0 24 24\"\n",
              "     width=\"24px\">\n",
              "    <g>\n",
              "        <path d=\"M19 3H5c-1.1 0-2 .9-2 2v14c0 1.1.9 2 2 2h14c1.1 0 2-.9 2-2V5c0-1.1-.9-2-2-2zM9 17H7v-7h2v7zm4 0h-2V7h2v10zm4 0h-2v-4h2v4z\"/>\n",
              "    </g>\n",
              "</svg>\n",
              "      </button>\n",
              "\n",
              "<style>\n",
              "  .colab-df-quickchart {\n",
              "      --bg-color: #E8F0FE;\n",
              "      --fill-color: #1967D2;\n",
              "      --hover-bg-color: #E2EBFA;\n",
              "      --hover-fill-color: #174EA6;\n",
              "      --disabled-fill-color: #AAA;\n",
              "      --disabled-bg-color: #DDD;\n",
              "  }\n",
              "\n",
              "  [theme=dark] .colab-df-quickchart {\n",
              "      --bg-color: #3B4455;\n",
              "      --fill-color: #D2E3FC;\n",
              "      --hover-bg-color: #434B5C;\n",
              "      --hover-fill-color: #FFFFFF;\n",
              "      --disabled-bg-color: #3B4455;\n",
              "      --disabled-fill-color: #666;\n",
              "  }\n",
              "\n",
              "  .colab-df-quickchart {\n",
              "    background-color: var(--bg-color);\n",
              "    border: none;\n",
              "    border-radius: 50%;\n",
              "    cursor: pointer;\n",
              "    display: none;\n",
              "    fill: var(--fill-color);\n",
              "    height: 32px;\n",
              "    padding: 0;\n",
              "    width: 32px;\n",
              "  }\n",
              "\n",
              "  .colab-df-quickchart:hover {\n",
              "    background-color: var(--hover-bg-color);\n",
              "    box-shadow: 0 1px 2px rgba(60, 64, 67, 0.3), 0 1px 3px 1px rgba(60, 64, 67, 0.15);\n",
              "    fill: var(--button-hover-fill-color);\n",
              "  }\n",
              "\n",
              "  .colab-df-quickchart-complete:disabled,\n",
              "  .colab-df-quickchart-complete:disabled:hover {\n",
              "    background-color: var(--disabled-bg-color);\n",
              "    fill: var(--disabled-fill-color);\n",
              "    box-shadow: none;\n",
              "  }\n",
              "\n",
              "  .colab-df-spinner {\n",
              "    border: 2px solid var(--fill-color);\n",
              "    border-color: transparent;\n",
              "    border-bottom-color: var(--fill-color);\n",
              "    animation:\n",
              "      spin 1s steps(1) infinite;\n",
              "  }\n",
              "\n",
              "  @keyframes spin {\n",
              "    0% {\n",
              "      border-color: transparent;\n",
              "      border-bottom-color: var(--fill-color);\n",
              "      border-left-color: var(--fill-color);\n",
              "    }\n",
              "    20% {\n",
              "      border-color: transparent;\n",
              "      border-left-color: var(--fill-color);\n",
              "      border-top-color: var(--fill-color);\n",
              "    }\n",
              "    30% {\n",
              "      border-color: transparent;\n",
              "      border-left-color: var(--fill-color);\n",
              "      border-top-color: var(--fill-color);\n",
              "      border-right-color: var(--fill-color);\n",
              "    }\n",
              "    40% {\n",
              "      border-color: transparent;\n",
              "      border-right-color: var(--fill-color);\n",
              "      border-top-color: var(--fill-color);\n",
              "    }\n",
              "    60% {\n",
              "      border-color: transparent;\n",
              "      border-right-color: var(--fill-color);\n",
              "    }\n",
              "    80% {\n",
              "      border-color: transparent;\n",
              "      border-right-color: var(--fill-color);\n",
              "      border-bottom-color: var(--fill-color);\n",
              "    }\n",
              "    90% {\n",
              "      border-color: transparent;\n",
              "      border-bottom-color: var(--fill-color);\n",
              "    }\n",
              "  }\n",
              "</style>\n",
              "\n",
              "      <script>\n",
              "        async function quickchart(key) {\n",
              "          const quickchartButtonEl =\n",
              "            document.querySelector('#' + key + ' button');\n",
              "          quickchartButtonEl.disabled = true;  // To prevent multiple clicks.\n",
              "          quickchartButtonEl.classList.add('colab-df-spinner');\n",
              "          try {\n",
              "            const charts = await google.colab.kernel.invokeFunction(\n",
              "                'suggestCharts', [key], {});\n",
              "          } catch (error) {\n",
              "            console.error('Error during call to suggestCharts:', error);\n",
              "          }\n",
              "          quickchartButtonEl.classList.remove('colab-df-spinner');\n",
              "          quickchartButtonEl.classList.add('colab-df-quickchart-complete');\n",
              "        }\n",
              "        (() => {\n",
              "          let quickchartButtonEl =\n",
              "            document.querySelector('#df-d10c56e4-fadb-41fe-abcf-d384f44cb9c7 button');\n",
              "          quickchartButtonEl.style.display =\n",
              "            google.colab.kernel.accessAllowed ? 'block' : 'none';\n",
              "        })();\n",
              "      </script>\n",
              "    </div>\n",
              "\n",
              "    </div>\n",
              "  </div>\n"
            ],
            "application/vnd.google.colaboratory.intrinsic+json": {
              "type": "dataframe",
              "variable_name": "df",
              "summary": "{\n  \"name\": \"df\",\n  \"rows\": 50,\n  \"fields\": [\n    {\n      \"column\": \"Company\",\n      \"properties\": {\n        \"dtype\": \"string\",\n        \"num_unique_values\": 50,\n        \"samples\": [\n          \"Net2000_Communications\",\n          \"IDT_Corp.\",\n          \"Broadwing\"\n        ],\n        \"semantic_type\": \"\",\n        \"description\": \"\"\n      }\n    },\n    {\n      \"column\": \"WC/TA\",\n      \"properties\": {\n        \"dtype\": \"number\",\n        \"std\": 34.269011943618054,\n        \"min\": -127.5,\n        \"max\": 74.7,\n        \"num_unique_values\": 48,\n        \"samples\": [\n          2.2,\n          16.1,\n          37.8\n        ],\n        \"semantic_type\": \"\",\n        \"description\": \"\"\n      }\n    },\n    {\n      \"column\": \"RE/TA\",\n      \"properties\": {\n        \"dtype\": \"number\",\n        \"std\": 90.07368131316785,\n        \"min\": -433.1,\n        \"max\": 54.6,\n        \"num_unique_values\": 48,\n        \"samples\": [\n          -45.4,\n          -61.3,\n          -33.8\n        ],\n        \"semantic_type\": \"\",\n        \"description\": \"\"\n      }\n    },\n    {\n      \"column\": \"EBIT/TA\",\n      \"properties\": {\n        \"dtype\": \"number\",\n        \"std\": 26.611454415767074,\n        \"min\": -98.7,\n        \"max\": 27.9,\n        \"num_unique_values\": 49,\n        \"samples\": [\n          -25.5,\n          9.7,\n          15.3\n        ],\n        \"semantic_type\": \"\",\n        \"description\": \"\"\n      }\n    },\n    {\n      \"column\": \"S/TA\",\n      \"properties\": {\n        \"dtype\": \"number\",\n        \"std\": 30.862938675269888,\n        \"min\": 0.3,\n        \"max\": 127.8,\n        \"num_unique_values\": 48,\n        \"samples\": [\n          58.0,\n          21.4,\n          17.1\n        ],\n        \"semantic_type\": \"\",\n        \"description\": \"\"\n      }\n    },\n    {\n      \"column\": \"BVE/BVL\",\n      \"properties\": {\n        \"dtype\": \"number\",\n        \"std\": 5.42503805896553,\n        \"min\": 0.028,\n        \"max\": 35.178,\n        \"num_unique_values\": 49,\n        \"samples\": [\n          0.46,\n          7.623,\n          1.273\n        ],\n        \"semantic_type\": \"\",\n        \"description\": \"\"\n      }\n    },\n    {\n      \"column\": \"Bankrupt\",\n      \"properties\": {\n        \"dtype\": \"number\",\n        \"std\": 0,\n        \"min\": 0,\n        \"max\": 1,\n        \"num_unique_values\": 2,\n        \"samples\": [\n          0,\n          1\n        ],\n        \"semantic_type\": \"\",\n        \"description\": \"\"\n      }\n    }\n  ]\n}"
            }
          },
          "metadata": {},
          "execution_count": 20
        }
      ]
    },
    {
      "cell_type": "markdown",
      "metadata": {
        "id": "3vKtfIXRsfce"
      },
      "source": [
        "## Remove features\n",
        "\n",
        "If you load all data from a file, you often also load irrelevant features for a task. In case of the data you just loaded, the feature is called ```Company```. This is an ID feature for the instances in the data. Such data must often be removed before further analysis of the data. Your second task is to remove this feature from the data."
      ]
    },
    {
      "cell_type": "code",
      "execution_count": 17,
      "metadata": {
        "colab": {
          "base_uri": "https://localhost:8080/"
        },
        "id": "hyfNW38Isfce",
        "outputId": "dfa62955-7b04-4d03-9fa8-45867394164e"
      },
      "outputs": [
        {
          "output_type": "stream",
          "name": "stdout",
          "text": [
            "Remaining features: ['WC/TA', 'RE/TA', 'EBIT/TA', 'S/TA', 'BVE/BVL', 'Bankrupt']\n"
          ]
        }
      ],
      "source": [
        "# remove the 'Company' feature (column)\n",
        "df = df.drop(columns=['Company'])\n",
        "\n",
        "# check the remaining features\n",
        "print(\"Remaining features:\", list(df.columns))"
      ]
    },
    {
      "cell_type": "markdown",
      "metadata": {
        "id": "WvmKmRwRsfce"
      },
      "source": [
        "## Remove instances with missing values\n",
        "\n",
        "Real-life data is often not clean, i.e., the data has many problems which must be addressed first, before it can be used for analysis. One common problem are missing features, i.e., not all features are available for all data. This is also the case for the data you just loaded. All missing values are marked as NA in the CSV file.\n",
        "\n",
        "Your third task is to remove all instances from the data, that have any missing values and store the remaining instances in a new data frame. If this works correctly, five instances should be removed. You can check this, e.g., by comparing the sizes of the data frames or printing the instances that were removed.\n"
      ]
    },
    {
      "cell_type": "code",
      "execution_count": 23,
      "metadata": {
        "colab": {
          "base_uri": "https://localhost:8080/"
        },
        "id": "eoWCfFm4sfce",
        "outputId": "5ccaadf8-9f5e-4c4f-9a03-e403cd8e392d"
      },
      "outputs": [
        {
          "output_type": "stream",
          "name": "stdout",
          "text": [
            "Original number of instances: 50\n",
            "After removing missing values: 50\n",
            "Instances removed: 0\n"
          ]
        }
      ],
      "source": [
        "df_clean = df.dropna()\n",
        "\n",
        "print(\"Original number of instances:\", df.shape[0])\n",
        "print(\"After removing missing values:\", df_clean.shape[0])\n",
        "print(\"Instances removed:\", df.shape[0] - df_clean.shape[0])"
      ]
    },
    {
      "cell_type": "markdown",
      "metadata": {
        "id": "thTL27Yssfce"
      },
      "source": [
        "## Computing with data frames\n",
        "\n",
        "Sometimes you have to compute new columns from the values of existing columns. Please append two new columns to the data frame: The sum of the columns WC/TA and RE/TA and the product of the columns EBIT/TA and S/TA."
      ]
    },
    {
      "cell_type": "code",
      "execution_count": 24,
      "metadata": {
        "colab": {
          "base_uri": "https://localhost:8080/"
        },
        "id": "EQ40oMmQsfce",
        "outputId": "eb05b31f-f9a2-439c-f7b4-098081937dfb"
      },
      "outputs": [
        {
          "output_type": "stream",
          "name": "stdout",
          "text": [
            "   WC/TA  RE/TA  WC_RE_Sum  EBIT/TA  S/TA  EBIT_S_Product\n",
            "0    9.3   -7.7        1.6      1.6   9.1           14.56\n",
            "1   42.6  -60.1      -17.5    -10.1   0.3           -3.03\n",
            "2  -28.8 -203.2     -232.0    -51.0  14.7         -749.70\n",
            "3    2.5 -433.1     -430.6     -6.0  29.3         -175.80\n",
            "4   26.1  -57.4      -31.3    -23.5  54.2        -1273.70\n"
          ]
        }
      ],
      "source": [
        "df[\"WC_RE_Sum\"] = df[\"WC/TA\"] + df[\"RE/TA\"]\n",
        "\n",
        "df[\"EBIT_S_Product\"] = df[\"EBIT/TA\"] * df[\"S/TA\"]\n",
        "\n",
        "print(df[[\"WC/TA\", \"RE/TA\", \"WC_RE_Sum\", \"EBIT/TA\", \"S/TA\", \"EBIT_S_Product\"]].head())\n"
      ]
    },
    {
      "cell_type": "markdown",
      "metadata": {
        "id": "PqEemMXOsfce"
      },
      "source": [
        "## Merging data frames\n",
        "\n",
        "The next task of this exercise is to merge data frames. For this, load the data from the same CSV file as above again. Then merge the data frame with the result from task 2.4, such that:\n",
        "- the dropped feature from task 2.2 is part of the merged data frame; and\n",
        "- the removed instances from task 2.3 are still gone; and\n",
        "- the indirectly computed features from task 2.4 are part of the merged data frame."
      ]
    },
    {
      "cell_type": "code",
      "execution_count": 27,
      "metadata": {
        "colab": {
          "base_uri": "https://localhost:8080/"
        },
        "id": "8AiJlPXfsfce",
        "outputId": "a251a0af-470f-4a5b-bc5e-bfc9c577dcc0"
      },
      "outputs": [
        {
          "output_type": "stream",
          "name": "stdout",
          "text": [
            "Merged DataFrame shape: (50, 8)\n",
            "                   Company_x                  Company_y  WC/TA  RE/TA  \\\n",
            "0                360Networks                360Networks    9.3   -7.7   \n",
            "1     Advanced_Radio_Telecom     Advanced_Radio_Telecom   42.6  -60.1   \n",
            "2      Ardent_Communications      Ardent_Communications  -28.8 -203.2   \n",
            "3              At_Home_Corp.              At_Home_Corp.    2.5 -433.1   \n",
            "4  Convergent_Communications  Convergent_Communications   26.1  -57.4   \n",
            "\n",
            "   EBIT/TA  S/TA  BVE/BVL  Bankrupt  \n",
            "0      1.6   9.1    3.726         1  \n",
            "1    -10.1   0.3    4.130         1  \n",
            "2    -51.0  14.7    0.111         1  \n",
            "3     -6.0  29.3    1.949         1  \n",
            "4    -23.5  54.2    0.855         1  \n"
          ]
        }
      ],
      "source": [
        "df_full = pd.read_csv(\"analcatdata_bankruptcy.csv\", na_values=[\"NA\"])\n",
        "\n",
        "df_full_clean = df_full.dropna()\n",
        "\n",
        "merged_df = pd.merge(\n",
        "    df_full_clean[[\"Company\"]],\n",
        "    df_clean,\n",
        "    left_index=True,\n",
        "    right_index=True\n",
        ")\n",
        "\n",
        "print(\"Merged DataFrame shape:\", merged_df.shape)\n",
        "print(merged_df.head())"
      ]
    },
    {
      "cell_type": "markdown",
      "metadata": {
        "id": "zeJZuniVsfce"
      },
      "source": [
        "## Selecting subsets\n",
        "\n",
        "Based on the data frame from task 2.5, create new data frames according to the following criteria.\n",
        "- A data frame with only the rows 10 to 20 and all columns.\n",
        "- A data frame with only the columns 1 to 4 and all rows.\n",
        "- A data frame with only the columns WC/TA and EBIT/TA and all rows.\n",
        "- A data frame with all rows that have the value RE/TA less than -20 and all columns.\n",
        "- A data frame with all rows that have the value RE/TA less than -20 and bankrupt equal to 0 and all columns.\n",
        "- A data frame with all rows that have the value RE/TA less than -20 and bankrupt equal to 0 and only the columns WC/TA and EBIT/TA.\n"
      ]
    },
    {
      "cell_type": "code",
      "execution_count": 29,
      "metadata": {
        "colab": {
          "base_uri": "https://localhost:8080/"
        },
        "id": "CHPdS4pmsfce",
        "outputId": "33e77ab8-cfbc-4372-e03c-de9dff7258e9"
      },
      "outputs": [
        {
          "output_type": "stream",
          "name": "stdout",
          "text": [
            "                 Company_x               Company_y  WC/TA  RE/TA  EBIT/TA  \\\n",
            "10      Global_Telesystems      Global_Telesystems   24.6  -29.0     -2.0   \n",
            "11             GST_Telecom             GST_Telecom    6.6  -50.9     -2.6   \n",
            "12                Metricom                Metricom   33.9  -46.5    -17.5   \n",
            "13  Net2000_Communications  Net2000_Communications   19.1  -66.3    -25.5   \n",
            "14   NetVoice_Technologies   NetVoice_Technologies  -21.1  -46.0    -26.8   \n",
            "\n",
            "    S/TA  BVE/BVL  Bankrupt  \n",
            "10  21.3    1.968         1  \n",
            "11  28.9    0.258         1  \n",
            "12   0.9    0.828         1  \n",
            "13  22.3    0.460         1  \n",
            "14  81.4    0.698         1  \n",
            "                   Company_y  WC/TA  RE/TA  EBIT/TA\n",
            "0                360Networks    9.3   -7.7      1.6\n",
            "1     Advanced_Radio_Telecom   42.6  -60.1    -10.1\n",
            "2      Ardent_Communications  -28.8 -203.2    -51.0\n",
            "3              At_Home_Corp.    2.5 -433.1     -6.0\n",
            "4  Convergent_Communications   26.1  -57.4    -23.5\n",
            "   WC/TA  EBIT/TA\n",
            "0    9.3      1.6\n",
            "1   42.6    -10.1\n",
            "2  -28.8    -51.0\n",
            "3    2.5     -6.0\n",
            "4   26.1    -23.5\n",
            "                   Company_x                  Company_y  WC/TA  RE/TA  \\\n",
            "1     Advanced_Radio_Telecom     Advanced_Radio_Telecom   42.6  -60.1   \n",
            "2      Ardent_Communications      Ardent_Communications  -28.8 -203.2   \n",
            "3              At_Home_Corp.              At_Home_Corp.    2.5 -433.1   \n",
            "4  Convergent_Communications  Convergent_Communications   26.1  -57.4   \n",
            "5       Covad_Communications       Covad_Communications   39.2 -111.8   \n",
            "\n",
            "   EBIT/TA  S/TA  BVE/BVL  Bankrupt  \n",
            "1    -10.1   0.3    4.130         1  \n",
            "2    -51.0  14.7    0.111         1  \n",
            "3     -6.0  29.3    1.949         1  \n",
            "4    -23.5  54.2    0.855         1  \n",
            "5    -77.8  10.5    0.168         1  \n",
            "              Company_x            Company_y  WC/TA  RE/TA  EBIT/TA  S/TA  \\\n",
            "26  Akamai_Technologies  Akamai_Technologies    9.8  -33.8     -7.1   3.2   \n",
            "27   Allegiance_Telecom   Allegiance_Telecom   37.8  -45.4     -7.1  17.1   \n",
            "35                Digex                Digex   13.8  -37.6    -13.0  32.3   \n",
            "41     Openwave_Systems     Openwave_Systems   20.3  -61.3      1.9  27.0   \n",
            "49     Western_Wireless     Western_Wireless    1.1  -39.5     15.7  41.8   \n",
            "\n",
            "    BVE/BVL  Bankrupt  \n",
            "26    5.965         0  \n",
            "27    3.450         0  \n",
            "35   13.768         0  \n",
            "41   35.178         0  \n",
            "49    1.449         0  \n",
            "    WC/TA  EBIT/TA\n",
            "26    9.8     -7.1\n",
            "27   37.8     -7.1\n",
            "35   13.8    -13.0\n",
            "41   20.3      1.9\n",
            "49    1.1     15.7\n"
          ]
        }
      ],
      "source": [
        "\n",
        "df_rows_10_20 = merged_df.iloc[10:21, :]\n",
        "\n",
        "df_cols_1_4 = merged_df.iloc[:, 1:5]\n",
        "\n",
        "df_wc_ebit = merged_df[[\"WC/TA\", \"EBIT/TA\"]]\n",
        "\n",
        "df_re_less20 = merged_df[merged_df[\"RE/TA\"] < -20]\n",
        "\n",
        "df_re_less20_b0 = merged_df[(merged_df[\"RE/TA\"] < -20) & (merged_df[\"Bankrupt\"] == 0)]\n",
        "\n",
        "df_re_less20_b0_wc_ebit = df_re_less20_b0[[\"WC/TA\", \"EBIT/TA\"]]\n",
        "\n",
        "print(df_rows_10_20.head())\n",
        "print(df_cols_1_4.head())\n",
        "print(df_wc_ebit.head())\n",
        "print(df_re_less20.head())\n",
        "print(df_re_less20_b0.head())\n",
        "print(df_re_less20_b0_wc_ebit.head())\n"
      ]
    }
  ],
  "metadata": {
    "kernelspec": {
      "display_name": "Python 3",
      "language": "python",
      "name": "python3"
    },
    "language_info": {
      "codemirror_mode": {
        "name": "ipython",
        "version": 3
      },
      "file_extension": ".py",
      "mimetype": "text/x-python",
      "name": "python",
      "nbconvert_exporter": "python",
      "pygments_lexer": "ipython3",
      "version": "3.6.9"
    },
    "colab": {
      "provenance": []
    }
  },
  "nbformat": 4,
  "nbformat_minor": 0
}